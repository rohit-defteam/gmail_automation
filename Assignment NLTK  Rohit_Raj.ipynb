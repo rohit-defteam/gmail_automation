{
 "cells": [
  {
   "cell_type": "code",
   "execution_count": 74,
   "id": "0fa1a5b3",
   "metadata": {},
   "outputs": [],
   "source": [
    "import nltk\n",
    "from nltk.corpus import stopwords\n",
    "from nltk.tokenize import word_tokenize\n",
    "from nltk.stem import WordNetLemmatizer\n",
    "from nltk.corpus import wordnet \n",
    "from nltk.tokenize import sent_tokenize\n",
    "# nltk.download('wordnet')\n",
    "# nltk.download('omw-1.4')\n",
    "# nltk.download('punkt')"
   ]
  },
  {
   "cell_type": "code",
   "execution_count": 75,
   "id": "3b564edb",
   "metadata": {},
   "outputs": [],
   "source": [
    "def readFile(filename): \n",
    "    file = open(filename, encoding=\"ISO-8859-1\")\n",
    "    text = file.read()\n",
    "    return text"
   ]
  },
  {
   "cell_type": "code",
   "execution_count": 93,
   "id": "6d189f0e",
   "metadata": {},
   "outputs": [],
   "source": [
    "def get_tokens(text):\n",
    "    from nltk.tokenize import word_tokenize\n",
    "    import re\n",
    "    sentence = sent_tokenize(text)\n",
    "    new_text = re.sub(r\"[^a-zA-Z0-9 ]\", \"\", text)\n",
    "    text_tokens = word_tokenize(new_text)\n",
    "    tokens_without_sw_ = [word for word in text_tokens if not word in stopwords.words()]\n",
    "    \n",
    "    return tokens_without_sw_, sentence, new_text"
   ]
  },
  {
   "cell_type": "code",
   "execution_count": 77,
   "id": "1239d34c",
   "metadata": {},
   "outputs": [],
   "source": [
    "def createDictionary(wordList):\n",
    "    from nltk.stem import WordNetLemmatizer\n",
    "    from nltk.corpus import wordnet \n",
    "    root_word = []\n",
    "    lemmatizer = WordNetLemmatizer()\n",
    "    for token in tokens:\n",
    "        root_word.append(lemmatizer.lemmatize(token, wordnet.VERB))\n",
    "        \n",
    "    unique_lst = list(set(root_word))\n",
    "    dictionary = {}\n",
    "    for i in unique_lst:\n",
    "        dictionary[i] = root_word.count(i)\n",
    "        \n",
    "    return dictionary"
   ]
  },
  {
   "cell_type": "code",
   "execution_count": 78,
   "id": "d3945331",
   "metadata": {},
   "outputs": [],
   "source": [
    "def topWordCounts(dictionary):\n",
    "    sorted_dict = {}\n",
    "    a1_sorted_keys = sorted(dictionary, key=dictionary.get, reverse=True)\n",
    "    for r in a1_sorted_keys:\n",
    "        sorted_dict[r] = dictionary[r]\n",
    "    return sorted_dict\n",
    "    "
   ]
  },
  {
   "cell_type": "code",
   "execution_count": 79,
   "id": "37cec999",
   "metadata": {},
   "outputs": [],
   "source": [
    "text = readFile('starshipSN8News_ansi.txt')"
   ]
  },
  {
   "cell_type": "code",
   "execution_count": 94,
   "id": "030d0e6f",
   "metadata": {},
   "outputs": [],
   "source": [
    "wordList,sentence, new_text = get_tokens(text)"
   ]
  },
  {
   "cell_type": "code",
   "execution_count": 95,
   "id": "9e6dae53",
   "metadata": {},
   "outputs": [
    {
     "data": {
      "text/plain": [
       "'Elon Musk  has shared some details about future testing of Starship the SpaceX  launch vehicle currently being developed by the company at its Boca Chica Texas facilityRecently SpaceX  has completed short 150meter just under 500 feet test flights of two earlier Starship prototypes SN5 and SN6 SN8 whose construction is currently set to be complete in about a week according to Musk will have flaps  nosecone and ultimately is intended for a much higher altitude test launchThe prototypes that SpaceX has flown and landed for its socalled shorthop tests over the past few weeks have been fullsized but with a simulated weight installed on the top in place of the actual domed nosecone that will perch atop the final production Starship and protect any cargo on board SN5 and SN6 which are often compared to grain silos are also lacking the large control flaps on either side of the nosecone that will help control its flight SN8 will have both according to MuskThis version of the prototype will also undergo the same early testing and its precursors including a static fire and other ground checkouts followed by another static fire before ultimately attempting to fly to an altitude of 60000 feet  and then returning back to the ground for a controlled landingSpaceX is off pace when it comes to Starship development relative to Musks earliest rosiest projections  but the CEO is known for overly optimistic estimates when it comes to timeframes something hes repeatedly copped to himselfRocket development is also notoriously difficult so this first highaltitude flight attempt could just as easily go very poorly SpaceX in particular has a development program that focuses on rapid iteration and learning from earlier mistakes while building simultaneous development prototypes incorporating different lessons gleaned from various generations And while it may not have made Musks crazy timelines it is moving very quickly especially now that the most recent prototypes have survived pressure testing and made it up into the air'"
      ]
     },
     "execution_count": 95,
     "metadata": {},
     "output_type": "execute_result"
    }
   ],
   "source": [
    "new_text"
   ]
  },
  {
   "cell_type": "code",
   "execution_count": 92,
   "id": "59e75b82",
   "metadata": {},
   "outputs": [
    {
     "data": {
      "text/plain": [
       "['Elon',\n",
       " 'Musk',\n",
       " 'shared',\n",
       " 'details',\n",
       " 'future',\n",
       " 'testing',\n",
       " 'Starship',\n",
       " 'SpaceX',\n",
       " 'launch',\n",
       " 'vehicle',\n",
       " 'currently',\n",
       " 'developed',\n",
       " 'company',\n",
       " 'Boca',\n",
       " 'Chica',\n",
       " 'Texas',\n",
       " 'facilityRecently',\n",
       " 'SpaceX',\n",
       " 'completed',\n",
       " 'short',\n",
       " '150meter',\n",
       " '500',\n",
       " 'feet',\n",
       " 'test',\n",
       " 'flights',\n",
       " 'earlier',\n",
       " 'Starship',\n",
       " 'prototypes',\n",
       " 'SN5',\n",
       " 'SN6',\n",
       " 'SN8',\n",
       " 'construction',\n",
       " 'currently',\n",
       " 'set',\n",
       " 'complete',\n",
       " 'week',\n",
       " 'Musk',\n",
       " 'flaps',\n",
       " 'nosecone',\n",
       " 'ultimately',\n",
       " 'intended',\n",
       " 'higher',\n",
       " 'altitude',\n",
       " 'test',\n",
       " 'launchThe',\n",
       " 'prototypes',\n",
       " 'SpaceX',\n",
       " 'flown',\n",
       " 'landed',\n",
       " 'socalled',\n",
       " 'shorthop',\n",
       " 'tests',\n",
       " 'past',\n",
       " 'weeks',\n",
       " 'fullsized',\n",
       " 'simulated',\n",
       " 'weight',\n",
       " 'installed',\n",
       " 'top',\n",
       " 'place',\n",
       " 'actual',\n",
       " 'domed',\n",
       " 'nosecone',\n",
       " 'perch',\n",
       " 'atop',\n",
       " 'final',\n",
       " 'production',\n",
       " 'Starship',\n",
       " 'protect',\n",
       " 'cargo',\n",
       " 'board',\n",
       " 'SN5',\n",
       " 'SN6',\n",
       " 'compared',\n",
       " 'grain',\n",
       " 'silos',\n",
       " 'lacking',\n",
       " 'large',\n",
       " 'control',\n",
       " 'flaps',\n",
       " 'side',\n",
       " 'nosecone',\n",
       " 'control',\n",
       " 'flight',\n",
       " 'SN8',\n",
       " 'MuskThis',\n",
       " 'version',\n",
       " 'prototype',\n",
       " 'undergo',\n",
       " 'early',\n",
       " 'testing',\n",
       " 'precursors',\n",
       " 'including',\n",
       " 'static',\n",
       " 'fire',\n",
       " 'ground',\n",
       " 'checkouts',\n",
       " 'static',\n",
       " 'fire',\n",
       " 'ultimately',\n",
       " 'attempting',\n",
       " 'fly',\n",
       " 'altitude',\n",
       " '60000',\n",
       " 'feet',\n",
       " 'returning',\n",
       " 'back',\n",
       " 'ground',\n",
       " 'controlled',\n",
       " 'landingSpaceX',\n",
       " 'pace',\n",
       " 'Starship',\n",
       " 'development',\n",
       " 'relative',\n",
       " 'Musks',\n",
       " 'earliest',\n",
       " 'rosiest',\n",
       " 'projections',\n",
       " 'CEO',\n",
       " 'overly',\n",
       " 'optimistic',\n",
       " 'estimates',\n",
       " 'timeframes',\n",
       " 'hes',\n",
       " 'repeatedly',\n",
       " 'copped',\n",
       " 'himselfRocket',\n",
       " 'development',\n",
       " 'notoriously',\n",
       " 'difficult',\n",
       " 'highaltitude',\n",
       " 'flight',\n",
       " 'attempt',\n",
       " 'easily',\n",
       " 'poorly',\n",
       " 'SpaceX',\n",
       " 'particular',\n",
       " 'development',\n",
       " 'program',\n",
       " 'focuses',\n",
       " 'rapid',\n",
       " 'iteration',\n",
       " 'learning',\n",
       " 'earlier',\n",
       " 'mistakes',\n",
       " 'building',\n",
       " 'simultaneous',\n",
       " 'development',\n",
       " 'prototypes',\n",
       " 'incorporating',\n",
       " 'different',\n",
       " 'lessons',\n",
       " 'gleaned',\n",
       " 'generations',\n",
       " 'And',\n",
       " 'made',\n",
       " 'Musks',\n",
       " 'crazy',\n",
       " 'timelines',\n",
       " 'moving',\n",
       " 'quickly',\n",
       " 'especially',\n",
       " 'recent',\n",
       " 'prototypes',\n",
       " 'survived',\n",
       " 'pressure',\n",
       " 'testing',\n",
       " 'made',\n",
       " 'air']"
      ]
     },
     "execution_count": 92,
     "metadata": {},
     "output_type": "execute_result"
    }
   ],
   "source": [
    "wordList"
   ]
  },
  {
   "cell_type": "code",
   "execution_count": 81,
   "id": "099509c5",
   "metadata": {},
   "outputs": [],
   "source": [
    "dictionary = createDictionary(wordList)"
   ]
  },
  {
   "cell_type": "code",
   "execution_count": 73,
   "id": "77d0d707",
   "metadata": {
    "collapsed": true
   },
   "outputs": [
    {
     "name": "stdout",
     "output_type": "stream",
     "text": [
      "{'test': 6, 'Starship': 4, 'SpaceX': 4, 'development': 4, 'prototypes': 4, 'nosecone': 3, 'flight': 3, 'control': 3, 'currently': 2, 'grind': 2, 'SN5': 2, 'Musk': 2, 'fly': 2, 'static': 2, 'fire': 2, 'complete': 2, 'make': 2, 'feet': 2, 'altitude': 2, 'SN8': 2, 'earlier': 2, 'attempt': 2, 'ultimately': 2, 'SN6': 2, 'Musks': 2, 'flap': 2, 'launch': 1, 'rosiest': 1, 'glean': 1, 'estimate': 1, 'launchThe': 1, 'pace': 1, 'program': 1, 'short': 1, 'Texas': 1, 'lack': 1, 'overly': 1, 'company': 1, 'production': 1, 'Elon': 1, 'move': 1, 'weeks': 1, 'And': 1, 'silos': 1, 'perch': 1, 'learn': 1, 'cop': 1, 'checkouts': 1, 'landingSpaceX': 1, 'quickly': 1, 'construction': 1, 'vehicle': 1, 'focus': 1, 'precursors': 1, 'atop': 1, 'past': 1, 'set': 1, 'simulate': 1, 'cargo': 1, 'compare': 1, 'relative': 1, 'earliest': 1, 'higher': 1, 'undergo': 1, 'air': 1, 'CEO': 1, 'timeframes': 1, 'especially': 1, '500': 1, 'rapid': 1, 'mistake': 1, 'different': 1, 'top': 1, 'easily': 1, 'simultaneous': 1, 'large': 1, 'repeatedly': 1, 'optimistic': 1, 'place': 1, 'shorthop': 1, 'future': 1, 'land': 1, 'side': 1, 'facilityRecently': 1, 'return': 1, 'timelines': 1, 'final': 1, 'MuskThis': 1, 'build': 1, '150meter': 1, 'recent': 1, 'notoriously': 1, 'intend': 1, 'iteration': 1, 'hes': 1, 'weight': 1, 'projections': 1, 'survive': 1, 'develop': 1, 'difficult': 1, 'crazy': 1, 'fullsized': 1, 'include': 1, 'early': 1, 'Boca': 1, 'domed': 1, 'particular': 1, 'incorporate': 1, 'highaltitude': 1, '60000': 1, 'socalled': 1, 'pressure': 1, 'share': 1, 'poorly': 1, 'back': 1, 'Chica': 1, 'board': 1, 'generations': 1, 'actual': 1, 'grain': 1, 'protect': 1, 'himselfRocket': 1, 'version': 1, 'prototype': 1, 'lessons': 1, 'detail': 1, 'instal': 1, 'week': 1}\n"
     ]
    }
   ],
   "source": [
    "print(topWordCounts(dictionary))"
   ]
  }
 ],
 "metadata": {
  "kernelspec": {
   "display_name": "Python 3 (ipykernel)",
   "language": "python",
   "name": "python3"
  },
  "language_info": {
   "codemirror_mode": {
    "name": "ipython",
    "version": 3
   },
   "file_extension": ".py",
   "mimetype": "text/x-python",
   "name": "python",
   "nbconvert_exporter": "python",
   "pygments_lexer": "ipython3",
   "version": "3.10.6"
  }
 },
 "nbformat": 4,
 "nbformat_minor": 5
}
